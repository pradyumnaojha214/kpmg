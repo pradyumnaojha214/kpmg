{
 "cells": [
  {
   "cell_type": "code",
   "execution_count": 8,
   "id": "1b669f82",
   "metadata": {},
   "outputs": [
    {
     "name": "stdout",
     "output_type": "stream",
     "text": [
      "d\n",
      "a\n"
     ]
    }
   ],
   "source": [
    "def challenge3(test_dict,key):\n",
    "    key_list = key.split(\"/\")\n",
    "    res_dict = test_dict\n",
    "    for key in key_list:\n",
    "        res_dict = res_dict[key]\n",
    "    return res_dict\n",
    "\n",
    "print(challenge3({\"a\":{\"b\":{\"c\":\"d\"}}}, \"a/b/c\"))\n",
    "print(challenge3({\"x\":{\"y\":{\"z\":\"a\"}}}, \"x/y/z\"))\n"
   ]
  },
  {
   "cell_type": "code",
   "execution_count": null,
   "id": "edd3603d",
   "metadata": {},
   "outputs": [],
   "source": []
  }
 ],
 "metadata": {
  "kernelspec": {
   "display_name": "Python 3 (ipykernel)",
   "language": "python",
   "name": "python3"
  },
  "language_info": {
   "codemirror_mode": {
    "name": "ipython",
    "version": 3
   },
   "file_extension": ".py",
   "mimetype": "text/x-python",
   "name": "python",
   "nbconvert_exporter": "python",
   "pygments_lexer": "ipython3",
   "version": "3.9.13"
  }
 },
 "nbformat": 4,
 "nbformat_minor": 5
}
